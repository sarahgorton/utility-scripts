{
 "cells": [
  {
   "cell_type": "markdown",
   "id": "4687b793-d2fb-4c34-aa0e-6c9a19512ee0",
   "metadata": {},
   "source": [
    "# Run GA4 Reports"
   ]
  },
  {
   "cell_type": "markdown",
   "id": "c05b92e3-6a81-4c05-8d0e-9e881c9e6680",
   "metadata": {},
   "source": [
    "#### Purpose\n",
    "Code to connect with GA4 (Google Analytics 4) and pull reports as needed.\n",
    "* API Docs https://developers.google.com/analytics/devguides/reporting/data/v1"
   ]
  },
  {
   "cell_type": "code",
   "execution_count": null,
   "id": "63beb7ba-4f15-4eeb-a289-a78373234b2c",
   "metadata": {},
   "outputs": [],
   "source": [
    "# Resources\n",
    "\n",
    "# Functionality for authenticating using Google Cloud Service Account credentials\n",
    "from google.oauth2 import service_account\n",
    "\n",
    "# Facilitates fetching and analyzing data from GA4 properties by building and executing reporting requests \n",
    "from google.analytics.data_v1beta import BetaAnalyticsDataClient\n",
    "\n",
    "# The following fields are not available by default and must be explicitly imported\n",
    "from google.analytics.data_v1beta.types import (\n",
    "    DateRange,                # Specifies the start and end dates for the report\n",
    "    Dimension,                # Defines the attributes (e.g., 'city', 'browser') by which to segment the data\n",
    "    Metric,                   # Defines the quantitative data (e.g., 'sessions', 'users') to retrieve\n",
    "    RunReportRequest,         # Core object for building a report query to send to GA4\n",
    "    FilterExpression,         # Defines how filters are combined (e.g., AND/OR conditions)\n",
    "    Filter,                   # A single condition used to filter a dimension or metric\n",
    "    FilterExpressionList,     # A list of multiple FilterExpressions used in advanced filtering\n",
    "    # NumericFilter,            # (Optional) Enables filtering metrics based on numeric conditions (e.g., > 100)\n",
    "    # StringFilter,             # (Optional) Enables filtering dimensions based on string values (e.g., equals \"Chrome\")\n",
    ")\n",
    "\n",
    "# Provides powerful data structures like DataFrames and Series\n",
    "import pandas as pd\n"
   ]
  },
  {
   "cell_type": "code",
   "execution_count": null,
   "id": "37c9f400-e2a5-45dc-8d99-3392b4edebb5",
   "metadata": {},
   "outputs": [],
   "source": [
    "# Establish connection with GA4\n",
    "\n",
    "# 1. credentials which allow for authenticating the ga4 client\n",
    "credentials_gcloud = service_account.Credentials.from_service_account_file('credentials_ga4.json') # Service Account Key from GCP\n",
    "\n",
    "# 2. initialize the GA4 client \n",
    "client = BetaAnalyticsDataClient(credentials=credentials_gcloud)\n"
   ]
  },
  {
   "cell_type": "code",
   "execution_count": null,
   "id": "4977ee73-bca4-4fd7-b6cc-ba57637207d0",
   "metadata": {},
   "outputs": [],
   "source": [
    "# Function: run_report\n",
    "\n",
    "def run_report(_property_id, _start_date, _end_date):\n",
    "    \"\"\"\n",
    "    Runs a report within a specified Google Analytics 4 (GA4) property and outputs the results\n",
    "    as a pandas DataFrame.\n",
    "    https://developers.google.com/analytics/devguides/reporting/data/v1/basics\n",
    "\n",
    "    Args:\n",
    "        _property_id (str): The GA4 property ID used to identify which property's\n",
    "        data to query. Ex. \"111111111\"\n",
    "        _start_date (str): The report's desired start date. Ex. \"2024-08-22\"\n",
    "        _end_date (str): The report's desired end date. Ex. \"2024-08-28\"\n",
    "\n",
    "    Behavior:\n",
    "        Return a dataframe which provides the count of sessions starts, segmented by their source / medium\n",
    "    \"\"\"\n",
    "    \n",
    "    # Define the date range to be applied based user entered start and end date\n",
    "    _date_ranges = [DateRange(start_date = _start_date, end_date = _end_date)]\n",
    "    \n",
    "\n",
    "    # Define a dimension filter to be applied (Ex. on eventName, filter for session_start)\n",
    "    _dimension_filter = FilterExpression(\n",
    "        filter = Filter(\n",
    "            field_name = \"eventName\", # Replacable\n",
    "            string_filter = Filter.StringFilter(\n",
    "                value = \"session_start\",  # Replacable\n",
    "                match_type = \"EXACT\"  # Replacable\n",
    "            )\n",
    "        )\n",
    "    )\n",
    "\n",
    "    # Define the dimensions to be pulled\n",
    "    _dimensions = [Dimension(name = \"eventName\"), Dimension(name = \"firstUserSourceMedium\")]\n",
    "\n",
    "    # Define the metrics to be pulled\n",
    "    _metrics = [Metric(name = \"eventCount\")] \n",
    "\n",
    "    # Build the report request with the conditions declared above\n",
    "    request = RunReportRequest(\n",
    "        property = f\"properties/{_property_id}\",\n",
    "        date_ranges = _date_ranges,\n",
    "        dimension_filter = _dimension_filter,\n",
    "        dimensions = _dimensions,\n",
    "        metrics = _metrics\n",
    "    )\n",
    "    \n",
    "    # Run the report request with the conditions declared above\n",
    "    response = client.run_report(request)\n",
    "\n",
    "    # Structure the returned report\n",
    "    response_structured = []\n",
    "    for row in response.rows:\n",
    "        first_dimension_value = row.dimension_values[0].value\n",
    "        second_dimension_value = row.dimension_values[1].value\n",
    "        metric_value = row.metric_values[0].value\n",
    "        \n",
    "        response_structured.append({\n",
    "            'Event Name': first_dimension_value,\n",
    "            'Source/Medium': second_dimension_value,\n",
    "            'Event Count': metric_value\n",
    "        })\n",
    "        \n",
    "    # Store response_structured in response_df to be returned to caller \n",
    "    response_df = pd.DataFrame(response_structured).sort_values(by=['Event Name', 'Source/Medium'], ascending=True)\n",
    "\n",
    "    # Return the df\n",
    "    return response_df\n",
    "\n"
   ]
  },
  {
   "cell_type": "code",
   "execution_count": null,
   "id": "6ae59f7b-8b4a-48ac-8f72-fc08d255852f",
   "metadata": {},
   "outputs": [],
   "source": [
    "# TEST: run_report\n",
    "\n",
    "# 1. Determine desired parameter values\n",
    "property_id = \"xx\"\n",
    "start_date = \"xx\"\n",
    "end_date = \"xx\"\n",
    "\n",
    "# 2. Call run_report and store returned df\n",
    "report = run_report(property_id, start_date, end_date)\n",
    "    \n",
    "# 3. Preview df\n",
    "report.head(5)\n"
   ]
  },
  {
   "cell_type": "code",
   "execution_count": null,
   "id": "038499ca-f2ef-4d15-a2c9-ad1ec729d056",
   "metadata": {},
   "outputs": [],
   "source": []
  }
 ],
 "metadata": {
  "kernelspec": {
   "display_name": "Python 3 (ipykernel)",
   "language": "python",
   "name": "python3"
  },
  "language_info": {
   "codemirror_mode": {
    "name": "ipython",
    "version": 3
   },
   "file_extension": ".py",
   "mimetype": "text/x-python",
   "name": "python",
   "nbconvert_exporter": "python",
   "pygments_lexer": "ipython3",
   "version": "3.9.16"
  }
 },
 "nbformat": 4,
 "nbformat_minor": 5
}
