{
 "cells": [
  {
   "cell_type": "markdown",
   "id": "a2400580-29a4-4eeb-a5b2-45f15ab2a027",
   "metadata": {},
   "source": [
    "# Manage BigQuery Tables"
   ]
  },
  {
   "cell_type": "markdown",
   "id": "f9b71da8-f920-4903-852b-950d4dd5ceaa",
   "metadata": {},
   "source": [
    "#### Purpose\n",
    "Code to connect with BigQuery and delete, create, and load tables as needed"
   ]
  },
  {
   "cell_type": "code",
   "execution_count": null,
   "id": "5b132ec6-9fa1-48a9-bd66-e96901704aed",
   "metadata": {},
   "outputs": [],
   "source": [
    "# Resources\n",
    "\n",
    "# functionality for authenticating using Google Cloud Service Account credentials\n",
    "from google.oauth2 import service_account\n",
    "\n",
    "# allows interaction with bigquery \n",
    "from google.cloud import bigquery\n",
    "\n",
    "# work with dfs\n",
    "import pandas as pd\n",
    "\n",
    "# work with numbers\n",
    "import numpy as np\n"
   ]
  },
  {
   "cell_type": "code",
   "execution_count": null,
   "id": "cf8180b7-3329-4154-bf58-cc5c3daf938a",
   "metadata": {},
   "outputs": [],
   "source": [
    "# Establish connection with BigQuery\n",
    "\n",
    "# 1. credentials which allow for authenticating the bigquery client\n",
    "credentials_gcloud = service_account.Credentials.from_service_account_file('xx.json') # Service Account Key from GCP\n",
    "\n",
    "# 2. add scopes which define what actions the bigquery client can take \n",
    "credentials_gcloud_scoped = credentials_gcloud.with_scopes(\n",
    "    ['https://www.googleapis.com/auth/cloud-platform']) # google cloud platform - access to bigquery \n",
    "\n",
    "# 3. create the bigquery client which allows us to run jobs (running a query, pulling dataset info, etc.)\n",
    "bigquery_client = bigquery.Client(credentials=credentials_gcloud_scoped, project=credentials_gcloud.project_id,)\n"
   ]
  },
  {
   "cell_type": "code",
   "execution_count": null,
   "id": "cc4a8654-3e59-44d2-a5a7-e94afd7fdd83",
   "metadata": {},
   "outputs": [],
   "source": [
    "# Determine projects available\n",
    "\n",
    "# 1. Get an iterator for all projects and convert to a list\n",
    "project_ids = sorted(\n",
    "    (p.project_id for p in bigquery_client.list_projects())\n",
    ")\n",
    "\n",
    "# 2. Loop through the list of tables and print each table's ID\n",
    "for project_id in project_ids:\n",
    "    print(project_id)\n",
    "    "
   ]
  },
  {
   "cell_type": "code",
   "execution_count": null,
   "id": "e6fcce38-4bb2-4700-bc63-42004e294708",
   "metadata": {},
   "outputs": [],
   "source": [
    "# Determine datasets available\n",
    "\n",
    "# 1. Determine desired project (assign project_ref with one of the project_ids printed above)\n",
    "project_ref = \"xx\"\n",
    "\n",
    "# 2. Get an iterator for all datasets in a given project and convert to a list\n",
    "dataset_ids = sorted(\n",
    "    (d.dataset_id for d in bigquery_client.list_datasets(project_ref))\n",
    ")\n",
    "\n",
    "# 3. Loop through the list of tables and print each table's ID\n",
    "for dataset_id in dataset_ids:\n",
    "    print(dataset_id)\n",
    "    "
   ]
  },
  {
   "cell_type": "code",
   "execution_count": null,
   "id": "640ad486-debc-4369-9bf1-f450b0b54cc4",
   "metadata": {
    "scrolled": true
   },
   "outputs": [],
   "source": [
    "# Determine tables available\n",
    "\n",
    "# 1. Determine desired dataset (assign dataset_ref with one of the dataset_ids printed above)\n",
    "dataset_ref = \"xx\"\n",
    "project_dataset_ref = bigquery.DatasetReference(project_ref, dataset_ref)\n",
    "\n",
    "# 2. Get an iterator for all tables in a given project.dataset and convert to a list\n",
    "table_ids = sorted(\n",
    "    (t.table_id for t in bigquery_client.list_tables(project_dataset_ref))\n",
    ")\n",
    "\n",
    "# 3. Loop through the list of tables and print each table's ID\n",
    "for table_id in table_ids:\n",
    "    print(table_id)\n",
    "    "
   ]
  },
  {
   "cell_type": "code",
   "execution_count": null,
   "id": "eaa68851-f285-418f-aa41-98158e7b5a10",
   "metadata": {},
   "outputs": [],
   "source": [
    "# Function: delete_table\n",
    "\n",
    "def delete_table(_project_dataset_table_ref):\n",
    "    \"\"\"\n",
    "    Deletes a BigQuery table given its TableReference.\n",
    "\n",
    "    Args:\n",
    "        _project_dataset_table_ref (google.cloud.bigquery.table.TableReference):\n",
    "            A fully qualified reference to the BigQuery table to delete.\n",
    "\n",
    "    Behavior:\n",
    "        Deletes the specified table if it exists.\n",
    "        If the table does not exist, no error is raised (not_found_ok=True).\n",
    "    \"\"\"\n",
    "    # Deletes a BigQuery table given its TableReference\n",
    "    bigquery_client.delete_table(_project_dataset_table_ref, not_found_ok=True)\n"
   ]
  },
  {
   "cell_type": "code",
   "execution_count": null,
   "id": "1ac0c610-5391-4a7c-9ab6-559863a620f2",
   "metadata": {},
   "outputs": [],
   "source": [
    "# # TEST: delete_table\n",
    "\n",
    "# # 1. Determine desired table (assign table_ref with one of the table_ids printed above)\n",
    "# table_ref = \"xx\"\n",
    "# project_dataset_table_ref = bigquery.TableReference(project_dataset_ref, table_ref)\n",
    "\n",
    "# # 2. Call delete_table\n",
    "# delete_table(project_dataset_table_ref)\n"
   ]
  },
  {
   "cell_type": "code",
   "execution_count": null,
   "id": "0ae79af8-0556-4df5-a0c2-d0659664053e",
   "metadata": {},
   "outputs": [],
   "source": [
    "# Function: create_and_load_table\n",
    "\n",
    "def create_and_load_table(_project_dataset_table_ref, _df_to_load):\n",
    "    \"\"\"\n",
    "    Create a BigQuery table given its TableReference.\n",
    "    Load a dataframe into the created table.\n",
    "\n",
    "    Args:\n",
    "        _project_dataset_table_ref (google.cloud.bigquery.table.TableReference):\n",
    "            A fully qualified reference to the BigQuery table to create.\n",
    "        _df_to_load\n",
    "            A df (dataframe) object to be loaded to BigQuery.\n",
    "\n",
    "    Behavior:\n",
    "        Creates the specified table and loads it with the specified df.\n",
    "    \"\"\"\n",
    "    # Create a BigQuery table given its TableReference\n",
    "    bigquery_client.create_table(_project_dataset_table_ref)\n",
    "\n",
    "    # Load a dataframe into the created table\n",
    "    job_config_desired = bigquery.LoadJobConfig()\n",
    "    job_config_desired.autodetect = True\n",
    "        # Ensure schema will be auto detected \n",
    "    job = bigquery_client.load_table_from_dataframe(_df_to_load, _project_dataset_table_ref, job_config=job_config_desired)\n",
    "    job.result()  \n",
    "        # Run the load process\n"
   ]
  },
  {
   "cell_type": "code",
   "execution_count": null,
   "id": "8e9b08d5-531d-49d5-9dc9-f3c197a0a7e4",
   "metadata": {},
   "outputs": [],
   "source": [
    "# # # TEST: create_and_load_table\n",
    "\n",
    "# # 1. Determine desired table (assign table_ref with one of the table_ids printed above)\n",
    "# table_ref = \"xx\"\n",
    "# project_dataset_table_ref = bigquery.TableReference(project_dataset_ref, table_ref)\n",
    "\n",
    "\n",
    "# # 2. Create a test DataFrame with 5 rows and 3 columns of random integers\n",
    "# df_to_load = pd.DataFrame({\n",
    "#     'A': np.random.randint(0, 100, size=5),\n",
    "#     'B': np.random.randn(5),              # random floats from normal distribution\n",
    "#     'C': np.random.choice(['X', 'Y', 'Z'], size=5)  # random categorical data\n",
    "# })\n",
    "\n",
    "# # 3. Call delete_table\n",
    "# create_and_load_table(project_dataset_table_ref, df_to_load)\n"
   ]
  },
  {
   "cell_type": "code",
   "execution_count": null,
   "id": "5dbc6f30-1dda-44db-b5b5-5f67f7f74ace",
   "metadata": {},
   "outputs": [],
   "source": []
  }
 ],
 "metadata": {
  "kernelspec": {
   "display_name": "Python 3 (ipykernel)",
   "language": "python",
   "name": "python3"
  },
  "language_info": {
   "codemirror_mode": {
    "name": "ipython",
    "version": 3
   },
   "file_extension": ".py",
   "mimetype": "text/x-python",
   "name": "python",
   "nbconvert_exporter": "python",
   "pygments_lexer": "ipython3",
   "version": "3.9.16"
  }
 },
 "nbformat": 4,
 "nbformat_minor": 5
}
