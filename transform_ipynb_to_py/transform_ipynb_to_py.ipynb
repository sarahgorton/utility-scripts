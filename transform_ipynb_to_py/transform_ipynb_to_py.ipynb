{
 "cells": [
  {
   "cell_type": "markdown",
   "id": "689cd797-4857-45ae-add4-a09858765fac",
   "metadata": {},
   "source": [
    "# Transform IPYNB files to PY files\n",
    "* This will transform all listed .ipynb files into .py files. One possible use case if for cloud functions deployment which require py files."
   ]
  },
  {
   "cell_type": "code",
   "execution_count": null,
   "id": "21a7dc14-ac4e-45d9-aecd-382b9115a0a5",
   "metadata": {},
   "outputs": [],
   "source": [
    "# Libraries and Packages\n",
    "import subprocess\n",
    "import os\n",
    "\n",
    "# path to the folder containing ipynb files\n",
    "file_folder = '../xx'\n",
    "# list of ipynb files\n",
    "filenames = ['xx.ipynb', 'xx.ipynb']\n",
    "\n",
    "# for each file\n",
    "for filename in filenames:\n",
    "    # full path to the notebook file\n",
    "    filename_path = os.path.join(file_folder, filename)\n",
    "\n",
    "    # base name without extension\n",
    "    new_filename = os.path.splitext(filename)[0]\n",
    "\n",
    "    # transform the ipynb file into py file    \n",
    "    subprocess.run([\n",
    "        'jupyter', 'nbconvert', # jupyter requested to convert\n",
    "        '--to', 'script', # .ipynb file to .py file\n",
    "        filename_path, # this .ipynb file\n",
    "        '--output', new_filename, # this .py filename\n",
    "        '--output-dir', file_folder # output here\n",
    "    ])"
   ]
  },
  {
   "cell_type": "code",
   "execution_count": null,
   "id": "645366de-bd31-4041-8d33-d8b935b16310",
   "metadata": {},
   "outputs": [],
   "source": []
  }
 ],
 "metadata": {
  "kernelspec": {
   "display_name": "Python 3 (ipykernel)",
   "language": "python",
   "name": "python3"
  },
  "language_info": {
   "codemirror_mode": {
    "name": "ipython",
    "version": 3
   },
   "file_extension": ".py",
   "mimetype": "text/x-python",
   "name": "python",
   "nbconvert_exporter": "python",
   "pygments_lexer": "ipython3",
   "version": "3.9.16"
  }
 },
 "nbformat": 4,
 "nbformat_minor": 5
}
